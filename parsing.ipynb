{
  "nbformat": 4,
  "nbformat_minor": 0,
  "metadata": {
    "colab": {
      "provenance": [],
      "authorship_tag": "ABX9TyOsUPy5BX2hBCHbMXudVXHd",
      "include_colab_link": true
    },
    "kernelspec": {
      "name": "python3",
      "display_name": "Python 3"
    },
    "language_info": {
      "name": "python"
    }
  },
  "cells": [
    {
      "cell_type": "markdown",
      "metadata": {
        "id": "view-in-github",
        "colab_type": "text"
      },
      "source": [
        "<a href=\"https://colab.research.google.com/github/Kulbina/Deepfake/blob/main/parsing.ipynb\" target=\"_parent\"><img src=\"https://colab.research.google.com/assets/colab-badge.svg\" alt=\"Open In Colab\"/></a>"
      ]
    },
    {
      "cell_type": "code",
      "source": [
        "!pip install beautifulsoup4"
      ],
      "metadata": {
        "colab": {
          "base_uri": "https://localhost:8080/"
        },
        "id": "DXiiqpNg9yyR",
        "outputId": "7eafbb0d-b245-4ce2-c975-28e1c5b979fe"
      },
      "execution_count": 13,
      "outputs": [
        {
          "output_type": "stream",
          "name": "stdout",
          "text": [
            "Looking in indexes: https://pypi.org/simple, https://us-python.pkg.dev/colab-wheels/public/simple/\n",
            "Requirement already satisfied: beautifulsoup4 in /usr/local/lib/python3.8/dist-packages (4.6.3)\n"
          ]
        }
      ]
    },
    {
      "cell_type": "code",
      "execution_count": 14,
      "metadata": {
        "id": "QQK9LbxS9fQD"
      },
      "outputs": [],
      "source": [
        "from bs4 import BeautifulSoup"
      ]
    },
    {
      "cell_type": "code",
      "source": [
        "import requests"
      ],
      "metadata": {
        "id": "bH2enkTZ-JNR"
      },
      "execution_count": 15,
      "outputs": []
    },
    {
      "cell_type": "code",
      "source": [
        "url = 'https://toplists.ru/samye-krasivye-aktrisy-gollivuda'"
      ],
      "metadata": {
        "id": "hoeh3BiC-RSW"
      },
      "execution_count": 16,
      "outputs": []
    },
    {
      "cell_type": "code",
      "source": [
        "response = requests.get(url)"
      ],
      "metadata": {
        "id": "AZqr524Z_Byy"
      },
      "execution_count": 17,
      "outputs": []
    },
    {
      "cell_type": "code",
      "source": [
        "print(response)"
      ],
      "metadata": {
        "colab": {
          "base_uri": "https://localhost:8080/"
        },
        "id": "_uYLres5_Bn-",
        "outputId": "79a50569-b844-484e-ae0a-c43e1594cf51"
      },
      "execution_count": 18,
      "outputs": [
        {
          "output_type": "stream",
          "name": "stdout",
          "text": [
            "<Response [200]>\n"
          ]
        }
      ]
    },
    {
      "cell_type": "code",
      "source": [
        "soup = BeautifulSoup(response.text, \"lxml\")\n",
        "#print(soup)"
      ],
      "metadata": {
        "id": "tLMJ1qG0_P5A"
      },
      "execution_count": 19,
      "outputs": []
    },
    {
      "cell_type": "code",
      "source": [
        "actress_names = []\n",
        "names_list = soup.find('div', {'class': 'list-items'})\n",
        "items = names_list.find_all('h2', {'class': 'item-h2'})\n",
        "#print(items)\n",
        "for item in items:\n",
        "    name = item.find('a').text\n",
        "    actress_names.append(name)\n",
        "  "
      ],
      "metadata": {
        "id": "bk1cH1gjSeeR"
      },
      "execution_count": 20,
      "outputs": []
    },
    {
      "cell_type": "code",
      "source": [
        "actress_names = [x.strip(' ') for x in actress_names]\n",
        "actress_names"
      ],
      "metadata": {
        "id": "xdUngLO2DSdK",
        "outputId": "a0b4d444-0e65-4e8c-b567-ed8d9357d99a",
        "colab": {
          "base_uri": "https://localhost:8080/"
        }
      },
      "execution_count": 21,
      "outputs": [
        {
          "output_type": "execute_result",
          "data": {
            "text/plain": [
              "['Моника Беллуччи',\n",
              " 'Пенелопа Крус',\n",
              " 'Энн Хэтэуэй',\n",
              " 'Скарлетт Йоханссон',\n",
              " 'Шарлиз Терон',\n",
              " 'Анджелина Джоли',\n",
              " 'Натали Портман',\n",
              " 'Элизабет Олсен',\n",
              " 'Кэйт Бекинсэйл',\n",
              " 'Эмма Стоун',\n",
              " 'Галь Гадот',\n",
              " 'Ева Грин',\n",
              " 'Кира Найтли',\n",
              " 'Меган Фокс',\n",
              " 'Нина Добрев',\n",
              " 'Сальма Хайек',\n",
              " 'Джессика Альба',\n",
              " 'Рэйчел Макадамс',\n",
              " 'Мила Кунис',\n",
              " 'Дженнифер Лоуренс',\n",
              " 'Эмма Робертс',\n",
              " 'Лив Тайлер',\n",
              " 'Аманда Сейфрид',\n",
              " 'Кэтрин Зета-Джонс',\n",
              " 'Сандра Буллок',\n",
              " 'Оливия Уайлд',\n",
              " 'Эмма Уотсон',\n",
              " 'Кара Делевинь',\n",
              " 'Эмили Блант',\n",
              " 'Виктория Джастис',\n",
              " 'Эванджелин Лилли',\n",
              " 'Лили Коллинз',\n",
              " 'Блейк Лайвли',\n",
              " 'Дженнифер Энистон',\n",
              " 'Эмилия Кларк',\n",
              " 'Джессика Честейн',\n",
              " 'Селена Гомес',\n",
              " 'Эшли Грин',\n",
              " 'Шарлотта Маккинни',\n",
              " 'Рэйчел Вайс',\n",
              " 'Адриана Лима',\n",
              " 'Теа Леони',\n",
              " 'Мишель Пфайффер',\n",
              " 'Элизабет Бэнкс',\n",
              " 'Эммануэль Шрики',\n",
              " 'Алессандра Амбросио',\n",
              " 'Эми Адамс',\n",
              " 'Ева Лонгория',\n",
              " 'Бар Рафаэли',\n",
              " 'Кейт Уинслет',\n",
              " 'Дженнифер Лопес',\n",
              " 'Ванесса Хадженс',\n",
              " 'Джулианна Хаф',\n",
              " 'Eve Mendes',\n",
              " 'Айла Фишер',\n",
              " 'Ольга Константиновна Куриленко',\n",
              " 'Хэлли Берри',\n",
              " 'Ариана Гранде',\n",
              " 'Синди Кроуфорд',\n",
              " 'Николь Кидман',\n",
              " 'Дженнифер Лав Хьюитт',\n",
              " 'Дениз Ричардс',\n",
              " 'Тейлор Свифт',\n",
              " 'Мариса Томей',\n",
              " 'Юстман, Одетт',\n",
              " 'Кейт Хадсон',\n",
              " 'Эмили Ратаковски',\n",
              " 'Шакира',\n",
              " 'Хлоя Грейс Морец',\n",
              " 'Риз Уизерспун',\n",
              " 'Милла Йовович',\n",
              " 'Рианна',\n",
              " 'Бриджит Мойнахан',\n",
              " 'Роузи Хантингтон-Уайтли',\n",
              " 'Морена Баккарин',\n",
              " 'Хайди Клум',\n",
              " 'Зоуи Дешанель',\n",
              " 'Дженнифер Коннелли',\n",
              " 'Карен Гиллан',\n",
              " 'Зои Салдана',\n",
              " 'Элизабет Хёрли',\n",
              " 'Эдрианн Палики',\n",
              " 'Коби Смолдерс',\n",
              " 'Тэнди Ньютон',\n",
              " 'Анна Кендрик',\n",
              " 'Дженнифер Гарнер',\n",
              " 'Шейлин Вудли',\n",
              " 'Роуз Бирн',\n",
              " 'Alysa Milano',\n",
              " 'Кейт Аптон',\n",
              " 'Бритни Спирс',\n",
              " 'Кейт Мара',\n",
              " 'Кристен Белл',\n",
              " 'Кэтрин, герцогиня Кембриджская',\n",
              " 'Кристин Кройк',\n",
              " 'Кристина Эпплгейт',\n",
              " 'Кэндис Свейнпол',\n",
              " 'Джемма Артертон',\n",
              " 'Элайза Душку',\n",
              " 'Кэти Перри',\n",
              " 'Кэтрин Винник',\n",
              " 'Кейли Куоко',\n",
              " 'София Вергара',\n",
              " 'Кристина Хендрикс',\n",
              " 'Мэнди Мур',\n",
              " 'Хейден Панеттьер',\n",
              " 'Фиби Кейтс',\n",
              " 'Кэрри Андервуд',\n",
              " 'Тиффани-Амбер Тиссен',\n",
              " 'Миранда Керр',\n",
              " 'Линда Картер',\n",
              " 'Фейт Хилл',\n",
              " 'Эль Макферсон',\n",
              " 'Дайан Лейн',\n",
              " 'Оливия Манн',\n",
              " 'Шанайя Твейн',\n",
              " 'Ракель Уэлч',\n",
              " 'Эмбер Хёрд']"
            ]
          },
          "metadata": {},
          "execution_count": 21
        }
      ]
    },
    {
      "cell_type": "code",
      "source": [
        "len(actress_names)"
      ],
      "metadata": {
        "colab": {
          "base_uri": "https://localhost:8080/"
        },
        "id": "0NOjkkRBFKfC",
        "outputId": "e85c23fb-e35b-49c5-a1e7-5bf7d050de68"
      },
      "execution_count": 22,
      "outputs": [
        {
          "output_type": "execute_result",
          "data": {
            "text/plain": [
              "118"
            ]
          },
          "metadata": {},
          "execution_count": 22
        }
      ]
    },
    {
      "cell_type": "code",
      "source": [
        "import json"
      ],
      "metadata": {
        "id": "2JlJSB1OaTxl"
      },
      "execution_count": 23,
      "outputs": []
    },
    {
      "cell_type": "code",
      "source": [
        "with open('actress.json', 'w', encoding ='utf-8' ) as json_file:\n",
        "        json.dump(actress_names, json_file, ensure_ascii=False)"
      ],
      "metadata": {
        "id": "fgmOOLLvaJnP"
      },
      "execution_count": 24,
      "outputs": []
    },
    {
      "cell_type": "code",
      "source": [],
      "metadata": {
        "id": "3Wm13NGPTnqn"
      },
      "execution_count": 24,
      "outputs": []
    }
  ]
}